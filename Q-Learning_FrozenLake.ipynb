{
 "cells": [
  {
   "cell_type": "markdown",
   "metadata": {},
   "source": [
    "# Q* Learning with FrozenLake\n",
    "In this notebook, we'll implement an agent that plays **FrozenLake**\n",
    "<br>The goal of this game is to go from the starting state (S) to the goal state (G) by walking only on frozen tiles (F) and avoid holes (H). However, the ice is slippery, so you won't alwasy move in the direction you intend (stochastic environment)"
   ]
  },
  {
   "cell_type": "code",
   "execution_count": 1,
   "metadata": {},
   "outputs": [
    {
     "data": {
      "text/html": [
       "<iframe width=\"560\" height=\"315\" src=\"https://www.youtube.com/embed/q2ZOEFAaaI0?showinfo=0\" frameborder=\"0\" allow=\"autoplay; encrypted-media\" allowfullscreen></iframe>"
      ],
      "text/plain": [
       "<IPython.core.display.HTML object>"
      ]
     },
     "execution_count": 1,
     "metadata": {},
     "output_type": "execute_result"
    }
   ],
   "source": [
    "from IPython.display import HTML\n",
    "HTML('<iframe width=\"560\" height=\"315\" src=\"https://www.youtube.com/embed/q2ZOEFAaaI0?showinfo=0\" frameborder=\"0\" allow=\"autoplay; encrypted-media\" allowfullscreen></iframe>')"
   ]
  },
  {
   "cell_type": "markdown",
   "metadata": {},
   "source": [
    "## Step 0: Import the dependencies"
   ]
  },
  {
   "cell_type": "code",
   "execution_count": 3,
   "metadata": {},
   "outputs": [],
   "source": [
    "import numpy as np # for our table\n",
    "import gym # for Frozenlake Environment\n",
    "import random # generate random number"
   ]
  },
  {
   "cell_type": "markdown",
   "metadata": {},
   "source": [
    "## Step 1: Create the environment"
   ]
  },
  {
   "cell_type": "code",
   "execution_count": 4,
   "metadata": {},
   "outputs": [],
   "source": [
    "env = gym.make(\"FrozenLake-v0\")"
   ]
  },
  {
   "cell_type": "markdown",
   "metadata": {},
   "source": [
    "## Step 2: Create the Q-table and initialize it"
   ]
  },
  {
   "cell_type": "code",
   "execution_count": 5,
   "metadata": {},
   "outputs": [
    {
     "name": "stdout",
     "output_type": "stream",
     "text": [
      "[[0. 0. 0. 0.]\n",
      " [0. 0. 0. 0.]\n",
      " [0. 0. 0. 0.]\n",
      " [0. 0. 0. 0.]\n",
      " [0. 0. 0. 0.]\n",
      " [0. 0. 0. 0.]\n",
      " [0. 0. 0. 0.]\n",
      " [0. 0. 0. 0.]\n",
      " [0. 0. 0. 0.]\n",
      " [0. 0. 0. 0.]\n",
      " [0. 0. 0. 0.]\n",
      " [0. 0. 0. 0.]\n",
      " [0. 0. 0. 0.]\n",
      " [0. 0. 0. 0.]\n",
      " [0. 0. 0. 0.]\n",
      " [0. 0. 0. 0.]]\n"
     ]
    }
   ],
   "source": [
    "action_size = env.action_space.n\n",
    "state_size = env.observation_space.n\n",
    "qtable = np.zeros(shape=(action_size, state_size)).T\n",
    "print(qtable)"
   ]
  },
  {
   "cell_type": "markdown",
   "metadata": {},
   "source": [
    "## Step 3: Create the hyperparameters"
   ]
  },
  {
   "cell_type": "code",
   "execution_count": 6,
   "metadata": {},
   "outputs": [],
   "source": [
    "total_episodes = 150000\n",
    "learning_rate = 0.8\n",
    "max_steps = 99 # max steps per episode\n",
    "gamma = 0.95 #discouting rate\n",
    "\n",
    "# Exploration params\n",
    "epsilon = 1.0\n",
    "max_epsilon = 1.0\n",
    "min_epsilon = 0.01\n",
    "decay_rate = 0.005"
   ]
  },
  {
   "cell_type": "markdown",
   "metadata": {},
   "source": [
    "## The Q-learning algorithm\n",
    "![](https://cdn-images-1.medium.com/max/1116/1*QeoQEqWYYPs1P8yUwyaJVQ.png?raw=true)"
   ]
  },
  {
   "cell_type": "code",
   "execution_count": 7,
   "metadata": {
    "scrolled": true
   },
   "outputs": [
    {
     "name": "stdout",
     "output_type": "stream",
     "text": [
      "Episode: 0 --Reward: 0.0 --Epsilon: 1.0\n",
      "Episode: 1000 --Reward: 0.0 --Epsilon: 0.016670567529094613\n",
      "Episode: 2000 --Reward: 1.0 --Epsilon: 0.010044945930464861\n",
      "Episode: 3000 --Reward: 1.0 --Epsilon: 0.010000302843297297\n",
      "Episode: 4000 --Reward: 1.0 --Epsilon: 0.010000002040542086\n",
      "Episode: 5000 --Reward: 0.0 --Epsilon: 0.010000000013749065\n",
      "Episode: 6000 --Reward: 1.0 --Epsilon: 0.010000000000092641\n",
      "Episode: 7000 --Reward: 1.0 --Epsilon: 0.010000000000000625\n",
      "Episode: 8000 --Reward: 0.0 --Epsilon: 0.010000000000000004\n",
      "Episode: 9000 --Reward: 0.0 --Epsilon: 0.01\n",
      "Episode: 10000 --Reward: 1.0 --Epsilon: 0.01\n",
      "Episode: 11000 --Reward: 1.0 --Epsilon: 0.01\n",
      "Episode: 12000 --Reward: 0.0 --Epsilon: 0.01\n",
      "Episode: 13000 --Reward: 0.0 --Epsilon: 0.01\n",
      "Episode: 14000 --Reward: 1.0 --Epsilon: 0.01\n",
      "Episode: 15000 --Reward: 0.0 --Epsilon: 0.01\n",
      "Episode: 16000 --Reward: 1.0 --Epsilon: 0.01\n",
      "Episode: 17000 --Reward: 0.0 --Epsilon: 0.01\n",
      "Episode: 18000 --Reward: 0.0 --Epsilon: 0.01\n",
      "Episode: 19000 --Reward: 0.0 --Epsilon: 0.01\n",
      "Episode: 20000 --Reward: 0.0 --Epsilon: 0.01\n",
      "Episode: 21000 --Reward: 1.0 --Epsilon: 0.01\n",
      "Episode: 22000 --Reward: 0.0 --Epsilon: 0.01\n",
      "Episode: 23000 --Reward: 0.0 --Epsilon: 0.01\n",
      "Episode: 24000 --Reward: 0.0 --Epsilon: 0.01\n",
      "Episode: 25000 --Reward: 1.0 --Epsilon: 0.01\n",
      "Episode: 26000 --Reward: 0.0 --Epsilon: 0.01\n",
      "Episode: 27000 --Reward: 1.0 --Epsilon: 0.01\n",
      "Episode: 28000 --Reward: 1.0 --Epsilon: 0.01\n",
      "Episode: 29000 --Reward: 0.0 --Epsilon: 0.01\n",
      "Episode: 30000 --Reward: 0.0 --Epsilon: 0.01\n",
      "Episode: 31000 --Reward: 0.0 --Epsilon: 0.01\n",
      "Episode: 32000 --Reward: 0.0 --Epsilon: 0.01\n",
      "Episode: 33000 --Reward: 1.0 --Epsilon: 0.01\n",
      "Episode: 34000 --Reward: 1.0 --Epsilon: 0.01\n",
      "Episode: 35000 --Reward: 0.0 --Epsilon: 0.01\n",
      "Episode: 36000 --Reward: 0.0 --Epsilon: 0.01\n",
      "Episode: 37000 --Reward: 1.0 --Epsilon: 0.01\n",
      "Episode: 38000 --Reward: 1.0 --Epsilon: 0.01\n",
      "Episode: 39000 --Reward: 0.0 --Epsilon: 0.01\n",
      "Episode: 40000 --Reward: 1.0 --Epsilon: 0.01\n",
      "Episode: 41000 --Reward: 1.0 --Epsilon: 0.01\n",
      "Episode: 42000 --Reward: 0.0 --Epsilon: 0.01\n",
      "Episode: 43000 --Reward: 1.0 --Epsilon: 0.01\n",
      "Episode: 44000 --Reward: 0.0 --Epsilon: 0.01\n",
      "Episode: 45000 --Reward: 1.0 --Epsilon: 0.01\n",
      "Episode: 46000 --Reward: 1.0 --Epsilon: 0.01\n",
      "Episode: 47000 --Reward: 0.0 --Epsilon: 0.01\n",
      "Episode: 48000 --Reward: 0.0 --Epsilon: 0.01\n",
      "Episode: 49000 --Reward: 0.0 --Epsilon: 0.01\n",
      "Episode: 50000 --Reward: 0.0 --Epsilon: 0.01\n",
      "Episode: 51000 --Reward: 1.0 --Epsilon: 0.01\n",
      "Episode: 52000 --Reward: 0.0 --Epsilon: 0.01\n",
      "Episode: 53000 --Reward: 1.0 --Epsilon: 0.01\n",
      "Episode: 54000 --Reward: 1.0 --Epsilon: 0.01\n",
      "Episode: 55000 --Reward: 0.0 --Epsilon: 0.01\n",
      "Episode: 56000 --Reward: 0.0 --Epsilon: 0.01\n",
      "Episode: 57000 --Reward: 1.0 --Epsilon: 0.01\n",
      "Episode: 58000 --Reward: 0.0 --Epsilon: 0.01\n",
      "Episode: 59000 --Reward: 1.0 --Epsilon: 0.01\n",
      "Episode: 60000 --Reward: 1.0 --Epsilon: 0.01\n",
      "Episode: 61000 --Reward: 0.0 --Epsilon: 0.01\n",
      "Episode: 62000 --Reward: 0.0 --Epsilon: 0.01\n",
      "Episode: 63000 --Reward: 0.0 --Epsilon: 0.01\n",
      "Episode: 64000 --Reward: 1.0 --Epsilon: 0.01\n",
      "Episode: 65000 --Reward: 1.0 --Epsilon: 0.01\n",
      "Episode: 66000 --Reward: 1.0 --Epsilon: 0.01\n",
      "Episode: 67000 --Reward: 0.0 --Epsilon: 0.01\n",
      "Episode: 68000 --Reward: 1.0 --Epsilon: 0.01\n",
      "Episode: 69000 --Reward: 0.0 --Epsilon: 0.01\n",
      "Episode: 70000 --Reward: 1.0 --Epsilon: 0.01\n",
      "Episode: 71000 --Reward: 0.0 --Epsilon: 0.01\n",
      "Episode: 72000 --Reward: 1.0 --Epsilon: 0.01\n",
      "Episode: 73000 --Reward: 1.0 --Epsilon: 0.01\n",
      "Episode: 74000 --Reward: 1.0 --Epsilon: 0.01\n",
      "Episode: 75000 --Reward: 1.0 --Epsilon: 0.01\n",
      "Episode: 76000 --Reward: 0.0 --Epsilon: 0.01\n",
      "Episode: 77000 --Reward: 1.0 --Epsilon: 0.01\n",
      "Episode: 78000 --Reward: 1.0 --Epsilon: 0.01\n",
      "Episode: 79000 --Reward: 1.0 --Epsilon: 0.01\n",
      "Episode: 80000 --Reward: 0.0 --Epsilon: 0.01\n",
      "Episode: 81000 --Reward: 1.0 --Epsilon: 0.01\n",
      "Episode: 82000 --Reward: 0.0 --Epsilon: 0.01\n",
      "Episode: 83000 --Reward: 0.0 --Epsilon: 0.01\n",
      "Episode: 84000 --Reward: 0.0 --Epsilon: 0.01\n",
      "Episode: 85000 --Reward: 0.0 --Epsilon: 0.01\n",
      "Episode: 86000 --Reward: 0.0 --Epsilon: 0.01\n",
      "Episode: 87000 --Reward: 1.0 --Epsilon: 0.01\n",
      "Episode: 88000 --Reward: 0.0 --Epsilon: 0.01\n",
      "Episode: 89000 --Reward: 0.0 --Epsilon: 0.01\n",
      "Episode: 90000 --Reward: 1.0 --Epsilon: 0.01\n",
      "Episode: 91000 --Reward: 1.0 --Epsilon: 0.01\n",
      "Episode: 92000 --Reward: 1.0 --Epsilon: 0.01\n",
      "Episode: 93000 --Reward: 0.0 --Epsilon: 0.01\n",
      "Episode: 94000 --Reward: 1.0 --Epsilon: 0.01\n",
      "Episode: 95000 --Reward: 1.0 --Epsilon: 0.01\n",
      "Episode: 96000 --Reward: 0.0 --Epsilon: 0.01\n",
      "Episode: 97000 --Reward: 1.0 --Epsilon: 0.01\n",
      "Episode: 98000 --Reward: 0.0 --Epsilon: 0.01\n",
      "Episode: 99000 --Reward: 0.0 --Epsilon: 0.01\n",
      "Episode: 100000 --Reward: 0.0 --Epsilon: 0.01\n",
      "Episode: 101000 --Reward: 0.0 --Epsilon: 0.01\n",
      "Episode: 102000 --Reward: 1.0 --Epsilon: 0.01\n",
      "Episode: 103000 --Reward: 1.0 --Epsilon: 0.01\n",
      "Episode: 104000 --Reward: 0.0 --Epsilon: 0.01\n",
      "Episode: 105000 --Reward: 0.0 --Epsilon: 0.01\n",
      "Episode: 106000 --Reward: 0.0 --Epsilon: 0.01\n",
      "Episode: 107000 --Reward: 1.0 --Epsilon: 0.01\n",
      "Episode: 108000 --Reward: 1.0 --Epsilon: 0.01\n",
      "Episode: 109000 --Reward: 0.0 --Epsilon: 0.01\n",
      "Episode: 110000 --Reward: 0.0 --Epsilon: 0.01\n",
      "Episode: 111000 --Reward: 1.0 --Epsilon: 0.01\n",
      "Episode: 112000 --Reward: 0.0 --Epsilon: 0.01\n",
      "Episode: 113000 --Reward: 0.0 --Epsilon: 0.01\n",
      "Episode: 114000 --Reward: 0.0 --Epsilon: 0.01\n",
      "Episode: 115000 --Reward: 0.0 --Epsilon: 0.01\n",
      "Episode: 116000 --Reward: 1.0 --Epsilon: 0.01\n",
      "Episode: 117000 --Reward: 0.0 --Epsilon: 0.01\n",
      "Episode: 118000 --Reward: 1.0 --Epsilon: 0.01\n",
      "Episode: 119000 --Reward: 1.0 --Epsilon: 0.01\n",
      "Episode: 120000 --Reward: 1.0 --Epsilon: 0.01\n",
      "Episode: 121000 --Reward: 1.0 --Epsilon: 0.01\n",
      "Episode: 122000 --Reward: 1.0 --Epsilon: 0.01\n",
      "Episode: 123000 --Reward: 0.0 --Epsilon: 0.01\n",
      "Episode: 124000 --Reward: 0.0 --Epsilon: 0.01\n",
      "Episode: 125000 --Reward: 0.0 --Epsilon: 0.01\n",
      "Episode: 126000 --Reward: 1.0 --Epsilon: 0.01\n",
      "Episode: 127000 --Reward: 1.0 --Epsilon: 0.01\n",
      "Episode: 128000 --Reward: 1.0 --Epsilon: 0.01\n",
      "Episode: 129000 --Reward: 0.0 --Epsilon: 0.01\n",
      "Episode: 130000 --Reward: 0.0 --Epsilon: 0.01\n",
      "Episode: 131000 --Reward: 1.0 --Epsilon: 0.01\n",
      "Episode: 132000 --Reward: 1.0 --Epsilon: 0.01\n",
      "Episode: 133000 --Reward: 1.0 --Epsilon: 0.01\n",
      "Episode: 134000 --Reward: 0.0 --Epsilon: 0.01\n",
      "Episode: 135000 --Reward: 1.0 --Epsilon: 0.01\n",
      "Episode: 136000 --Reward: 1.0 --Epsilon: 0.01\n",
      "Episode: 137000 --Reward: 0.0 --Epsilon: 0.01\n",
      "Episode: 138000 --Reward: 1.0 --Epsilon: 0.01\n",
      "Episode: 139000 --Reward: 1.0 --Epsilon: 0.01\n",
      "Episode: 140000 --Reward: 1.0 --Epsilon: 0.01\n",
      "Episode: 141000 --Reward: 0.0 --Epsilon: 0.01\n",
      "Episode: 142000 --Reward: 0.0 --Epsilon: 0.01\n",
      "Episode: 143000 --Reward: 0.0 --Epsilon: 0.01\n",
      "Episode: 144000 --Reward: 1.0 --Epsilon: 0.01\n",
      "Episode: 145000 --Reward: 0.0 --Epsilon: 0.01\n",
      "Episode: 146000 --Reward: 0.0 --Epsilon: 0.01\n",
      "Episode: 147000 --Reward: 0.0 --Epsilon: 0.01\n",
      "Episode: 148000 --Reward: 0.0 --Epsilon: 0.01\n",
      "Episode: 149000 --Reward: 1.0 --Epsilon: 0.01\n",
      "Score over time: 0.5048133333333333\n",
      "================================================== \n",
      " [[2.41605101e-01 4.20233666e-02 3.78228139e-02 4.34169606e-02]\n",
      " [1.31448062e-02 2.08339353e-02 9.00293672e-03 4.08082348e-02]\n",
      " [1.92175830e-02 1.18505288e-02 1.26302349e-02 2.46740586e-02]\n",
      " [2.56021427e-03 1.49719592e-03 2.16339467e-04 2.08035426e-02]\n",
      " [3.97630796e-01 2.23718261e-03 3.84328370e-02 5.18611227e-02]\n",
      " [0.00000000e+00 0.00000000e+00 0.00000000e+00 0.00000000e+00]\n",
      " [2.75024531e-05 4.66882080e-05 6.59963307e-03 4.95967930e-04]\n",
      " [0.00000000e+00 0.00000000e+00 0.00000000e+00 0.00000000e+00]\n",
      " [8.10912837e-03 9.26527140e-03 4.69107179e-02 4.92913707e-01]\n",
      " [2.34700719e-03 7.40981290e-01 5.20326143e-03 6.91198388e-04]\n",
      " [7.09294149e-01 1.28212611e-03 2.46072851e-04 7.34977778e-04]\n",
      " [0.00000000e+00 0.00000000e+00 0.00000000e+00 0.00000000e+00]\n",
      " [0.00000000e+00 0.00000000e+00 0.00000000e+00 0.00000000e+00]\n",
      " [7.44904779e-02 2.13873712e-02 9.06690798e-01 8.97266643e-02]\n",
      " [2.13476761e-01 9.80762605e-01 2.52502811e-01 2.29595104e-01]\n",
      " [0.00000000e+00 0.00000000e+00 0.00000000e+00 0.00000000e+00]]\n",
      "==================================================\n"
     ]
    }
   ],
   "source": [
    "# List of rewards\n",
    "rewards = []\n",
    "\n",
    "# 2. For life or until learning is stopped\n",
    "for episode in range(total_episodes):\n",
    "    # Reset the environment\n",
    "    state = env.reset()\n",
    "    step = 0\n",
    "    done = False\n",
    "    total_rewards = 0\n",
    "    \n",
    "    for step in range(max_steps):\n",
    "        # 3. Choose an action (a) in the current world state (s)\n",
    "        ## First we randomize a number\n",
    "        exp_exp_tradeoff = random.uniform(0,1)\n",
    "        \n",
    "        ## if this number grater tha epsilon --> exploitation\n",
    "        ## meaning taking the biggest Q value for this state\n",
    "        \n",
    "        if exp_exp_tradeoff > epsilon:\n",
    "            action = np.argmax(qtable[state, :])\n",
    "        \n",
    "        # Else doing a random choice --> exploration\n",
    "        else:\n",
    "            action = env.action_space.sample()\n",
    "        \n",
    "        # Take the action (a) and observe the outcome state (s') \n",
    "        # and reward (r)\n",
    "        \n",
    "        new_state, reward, done, info = env.step(action)\n",
    "        \n",
    "        # Update Q(s,a) := \n",
    "        # Q(s,a) + lr [R(s,a) + gamma * max Q(s',a') - Q(s,a)]\n",
    "        \n",
    "        # qtable[new_state,:] : all the actions \n",
    "        # we can take from new state\n",
    "        \n",
    "        qtable[state, action] = \\\n",
    "            qtable[state, action] +\\\n",
    "            learning_rate * (\n",
    "                reward +\n",
    "                gamma * np.max(qtable[new_state, :])-\n",
    "                qtable[state, action]\n",
    "            )\n",
    "        total_rewards += reward\n",
    "        \n",
    "        # Our new state is new_state\n",
    "        state = new_state\n",
    "        \n",
    "        # if done (if we're deed): finish episode\n",
    "        if done:\n",
    "            break\n",
    "    # reduce epsilon (because we need less and less exploration)\n",
    "    epsilon = min_epsilon + (max_epsilon - min_epsilon)*\\\n",
    "              np.exp(-decay_rate*episode)\n",
    "    rewards.append(total_rewards)\n",
    "    \n",
    "    if episode % 1000 == 0:\n",
    "        print(\"Episode:\", episode, \n",
    "              \"--Reward:\", total_rewards, \n",
    "              \"--Epsilon:\", epsilon)\n",
    "    \n",
    "print (\"Score over time: \" +  str(sum(rewards)/total_episodes))\n",
    "print(\"=\"*50, \"\\n\" , qtable)\n",
    "print(\"=\"*50)"
   ]
  },
  {
   "cell_type": "markdown",
   "metadata": {},
   "source": [
    "## Step 5: Use our Q-table to play FrozenLake !"
   ]
  },
  {
   "cell_type": "code",
   "execution_count": 31,
   "metadata": {
    "scrolled": true
   },
   "outputs": [
    {
     "name": "stdout",
     "output_type": "stream",
     "text": [
      "****************************************************\n",
      "EPISODE  0\n",
      "  (Left)\n",
      "SFFF\n",
      "FHFH\n",
      "FFFH\n",
      "\u001b[41mH\u001b[0mFFG\n",
      "Number of steps 22\n",
      "****************************************************\n",
      "EPISODE  1\n",
      "  (Left)\n",
      "SFFF\n",
      "FHFH\n",
      "FFFH\n",
      "\u001b[41mH\u001b[0mFFG\n",
      "Number of steps 27\n",
      "****************************************************\n",
      "EPISODE  2\n",
      "  (Left)\n",
      "SFFF\n",
      "FHFH\n",
      "FFFH\n",
      "\u001b[41mH\u001b[0mFFG\n",
      "Number of steps 3\n",
      "****************************************************\n",
      "EPISODE  3\n",
      "  (Left)\n",
      "SFFF\n",
      "FHFH\n",
      "FFFH\n",
      "\u001b[41mH\u001b[0mFFG\n",
      "Number of steps 16\n",
      "****************************************************\n",
      "EPISODE  4\n",
      "  (Left)\n",
      "SFFF\n",
      "FHFH\n",
      "FFFH\n",
      "\u001b[41mH\u001b[0mFFG\n",
      "Number of steps 20\n"
     ]
    }
   ],
   "source": [
    "env.reset()\n",
    "\n",
    "for episode in range(5):\n",
    "    state = env.reset()\n",
    "    step = 0\n",
    "    done = False\n",
    "    print(\"****************************************************\")\n",
    "    print(\"EPISODE \", episode)\n",
    "\n",
    "    for step in range(max_steps):\n",
    "        \n",
    "        # Take the action (index) that have the maximum expected future reward given that state\n",
    "        action = np.argmax(qtable[state,:])\n",
    "        \n",
    "        new_state, reward, done, info = env.step(action)\n",
    "        \n",
    "        if done:\n",
    "            # Here, we decide to only print the last state (to see if our agent is on the goal or fall into an hole)\n",
    "            env.render()\n",
    "            \n",
    "            # We print the number of step it took.\n",
    "            print(\"Number of steps\", step)\n",
    "            break\n",
    "        state = new_state\n",
    "env.close()"
   ]
  },
  {
   "cell_type": "code",
   "execution_count": null,
   "metadata": {},
   "outputs": [],
   "source": []
  }
 ],
 "metadata": {
  "kernelspec": {
   "display_name": "Python 3",
   "language": "python",
   "name": "python3"
  },
  "language_info": {
   "codemirror_mode": {
    "name": "ipython",
    "version": 3
   },
   "file_extension": ".py",
   "mimetype": "text/x-python",
   "name": "python",
   "nbconvert_exporter": "python",
   "pygments_lexer": "ipython3",
   "version": "3.6.6"
  }
 },
 "nbformat": 4,
 "nbformat_minor": 2
}
